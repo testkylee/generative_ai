{
 "cells": [
  {
   "cell_type": "code",
   "execution_count": 4,
   "metadata": {},
   "outputs": [],
   "source": [
    "from azure.core.credentials import AzureKeyCredential\n",
    "from azure.ai.documentintelligence import DocumentIntelligenceClient\n",
    "from azure.ai.documentintelligence.models import AnalyzeDocumentRequest"
   ]
  },
  {
   "cell_type": "code",
   "execution_count": 5,
   "metadata": {},
   "outputs": [],
   "source": [
    "import os\n",
    "import base64  "
   ]
  },
  {
   "cell_type": "code",
   "execution_count": 6,
   "metadata": {},
   "outputs": [],
   "source": [
    "endpoint = \"https://nomuratest-doc.cognitiveservices.azure.com/\"\n",
    "key = \"94FJpFnAwdNkjiwnCc1b0FY8kOEq2aaQsYUoHlUOyjtnvwfwVaL4JQQJ99BBACHYHv6XJ3w3AAALACOGbxDi\""
   ]
  },
  {
   "cell_type": "code",
   "execution_count": 7,
   "metadata": {},
   "outputs": [],
   "source": [
    "model_id = \"0318_CTBC\""
   ]
  },
  {
   "cell_type": "code",
   "execution_count": 8,
   "metadata": {},
   "outputs": [],
   "source": [
    "document_intelligence_client  = DocumentIntelligenceClient(\n",
    "    endpoint=endpoint, credential=AzureKeyCredential(key)\n",
    ")"
   ]
  },
  {
   "cell_type": "code",
   "execution_count": 9,
   "metadata": {},
   "outputs": [],
   "source": [
    "src_path = r'D:\\.azure-search-openai-demo_repo\\個股資訊 Pdf 文件\\整理過的\\元大'\n",
    "pdf_file = r'穎崴 (6515 TT，買進) - 20250206.pdf'\n",
    "pdf_src = os.path.join(src_path, pdf_file)"
   ]
  },
  {
   "cell_type": "code",
   "execution_count": 10,
   "metadata": {},
   "outputs": [],
   "source": [
    "with open(pdf_src, \"rb\") as f:\n",
    "    base64_encoded_pdf = base64.b64encode(f.read()).decode(\"utf-8\")"
   ]
  },
  {
   "cell_type": "code",
   "execution_count": 11,
   "metadata": {},
   "outputs": [],
   "source": [
    "# Make sure your document's type is included in the list of document types the custom model can analyze\n",
    "poller = document_intelligence_client.begin_analyze_document(\n",
    "    model_id, AnalyzeDocumentRequest(bytes_source=base64_encoded_pdf)\n",
    ")"
   ]
  },
  {
   "cell_type": "code",
   "execution_count": 12,
   "metadata": {},
   "outputs": [],
   "source": [
    "result = poller.result()"
   ]
  },
  {
   "cell_type": "code",
   "execution_count": 13,
   "metadata": {},
   "outputs": [],
   "source": [
    "pdf_base, pdf_ext = os.path.splitext(pdf_file)"
   ]
  },
  {
   "cell_type": "code",
   "execution_count": 14,
   "metadata": {},
   "outputs": [],
   "source": [
    "with open(os.path.join(src_path, f'output_{pdf_base}.txt'), 'w', encoding='utf-8') as fout:\n",
    "    for idx, document in enumerate(result.documents):\n",
    "        print( \"--------Analyzing document #{}--------\".format(idx + 1), file=fout)\n",
    "        print( \"Document has type {}\".format(document.doc_type), file=fout)\n",
    "        print( \"Document has confidence {}\".format(document.confidence), file=fout)\n",
    "        print( \"Document was analyzed by model with ID {}\".format(result.model_id), file=fout)\n",
    "        for name, field in document.fields.items():\n",
    "            print( \"......found field of type '{}' with value '{}' and with confidence {}\".format(field.type, field.content, field.confidence), file=fout)\n",
    "    print(\"-----------------------------------\", file=fout)"
   ]
  },
  {
   "cell_type": "code",
   "execution_count": 16,
   "metadata": {},
   "outputs": [
    {
     "data": {
      "text/plain": [
       "{'broker_name': {'type': 'string', 'valueString': '穎崴\\nWinWay', 'content': '穎崴\\nWinWay', 'boundingRegions': [{'pageNumber': 1, 'polygon': [0.5127, 0.8206, 3.8829, 0.8721, 3.8772, 1.2466, 0.5069, 1.1951]}], 'confidence': 0.44, 'spans': [{'offset': 25, 'length': 2}, {'offset': 37, 'length': 6}]},\n",
       " 'content': {'type': 'string', 'valueString': '資料來源:公司資料、元大投顧\\n請參閱末頁之免責宣言。', 'content': '資料來源:公司資料、元大投顧\\n請參閱末頁之免責宣言。', 'boundingRegions': [{'pageNumber': 3, 'polygon': [0.4882, 8.6747, 3.2496, 8.6784, 3.2459, 11.4429, 0.4845, 11.4392]}], 'confidence': 0, 'spans': [{'offset': 4704, 'length': 26}]},\n",
       " 'report_date': {'type': 'string', 'valueString': '2025年2月6日', 'content': '2025年2月6日', 'boundingRegions': [{'pageNumber': 1, 'polygon': [5.6214, 0.2155, 6.6449, 0.2179, 6.6445, 0.3796, 5.621, 0.3773]}], 'confidence': 0.49, 'spans': [{'offset': 5, 'length': 9}]},\n",
       " 'content3': {'type': 'string', 'valueString': '-35.6%\\n-22.5%\\n後\\n404\\n-27.1%\\n406.8%\\n457\\n-35.5%', 'content': '-35.6%\\n-22.5%\\n後\\n404\\n-27.1%\\n406.8%\\n457\\n-35.5%', 'boundingRegions': [{'pageNumber': 2, 'polygon': [2.4653, 5.8921, 7.5331, 5.9011, 7.5324, 6.27, 2.4647, 6.261]}], 'confidence': 0, 'spans': [{'offset': 2804, 'length': 13}, {'offset': 2819, 'length': 1}, {'offset': 2826, 'length': 3}, {'offset': 2834, 'length': 17}, {'offset': 2856, 'length': 6}]},\n",
       " 'content5': {'type': 'string', 'valueString': 'AI/HPC\\n256%\\nAI/HPC\\n300%\\n250%\\n200%\\n150%\\n100%\\n50%\\n0%\\n1Q24\\n3Q24\\n4Q24F\\n資料來源:公\\n資料、元\\n投顧預估\\n圖\\nAI/HPC\\n半年將持續復甦\\n(NT$mn)\\nCurrent AI/HPC\\nPrevious AI/HPC\\n1200\\n1000\\n800\\n600\\n400\\n200\\n0\\n4Q24F\\n1Q25F\\n2Q25F\\n資料來源:公司資料、元大投顧預估\\nRTX50 與 GB200 使 1H25 動能強勁,上修 1Q25 EPS 15%\\n整體測試供應鏈的電競 GPU 測試需求優於預期,預估 RTX50 世代整體測試介面需求(包括探針卡、 測試座、測試板)將是 RTX40測試介面的1~2 倍左右。我們認為主要原因在於製程升級及效能提升 (圖6)造成全新顯卡良率較低。\\n考量 RTX50 相關產品(如測試版及測試座)需求穩健,我們將 1Q25 營收調高 7%至17.9 億元,季 增 17%且年增 67%。儘管伺服器 CPU 需求平淡導致 1Q25 毛利率/營業利益率調整,但我們預估 本業獲利將季增 30%/年增 114%至 4.8 億元,係因 1)RTX50 探針卡帶動產品組合改善;及 2) AI/HPC 及電競業務支撐產能利用率維持高檔,我們因此將 1Q25 EPS 上修 15%至11.1元,季增 30%、年增91%。\\n1 6:NVIDIA RTX5080/5090 上市時間較先前預期推遲一季\\nRTX 3080\\nRTX 3090\\nRTX 4080(16G)\\n4090\\n3Q22\\n4Q22\\n1Q25\\n1Q25', 'content': 'AI/HPC\\n256%\\nAI/HPC\\n300%\\n250%\\n200%\\n150%\\n100%\\n50%\\n0%\\n1Q24\\n3Q24\\n4Q24F\\n資料來源:公\\n資料、元\\n投顧預估\\n圖\\nAI/HPC\\n半年將持續復甦\\n(NT$mn)\\nCurrent AI/HPC\\nPrevious AI/HPC\\n1200\\n1000\\n800\\n600\\n400\\n200\\n0\\n4Q24F\\n1Q25F\\n2Q25F\\n資料來源:公司資料、元大投顧預估\\nRTX50 與 GB200 使 1H25 動能強勁,上修 1Q25 EPS 15%\\n整體測試供應鏈的電競 GPU 測試需求優於預期,預估 RTX50 世代整體測試介面需求(包括探針卡、 測試座、測試板)將是 RTX40測試介面的1~2 倍左右。我們認為主要原因在於製程升級及效能提升 (圖6)造成全新顯卡良率較低。\\n考量 RTX50 相關產品(如測試版及測試座)需求穩健,我們將 1Q25 營收調高 7%至17.9 億元,季 增 17%且年增 67%。儘管伺服器 CPU 需求平淡導致 1Q25 毛利率/營業利益率調整,但我們預估 本業獲利將季增 30%/年增 114%至 4.8 億元,係因 1)RTX50 探針卡帶動產品組合改善;及 2) AI/HPC 及電競業務支撐產能利用率維持高檔,我們因此將 1Q25 EPS 上修 15%至11.1元,季增 30%、年增91%。\\n1 6:NVIDIA RTX5080/5090 上市時間較先前預期推遲一季\\nRTX 3080\\nRTX 3090\\nRTX 4080(16G)\\n4090\\n3Q22\\n4Q22\\n1Q25\\n1Q25', 'boundingRegions': [{'pageNumber': 3, 'polygon': [1.8611, 0.6556, 7.9555, 0.6556, 7.9555, 6.6879, 1.8611, 6.6879]}], 'confidence': 0, 'spans': [{'offset': 3466, 'length': 6}, {'offset': 3481, 'length': 11}, {'offset': 3503, 'length': 36}, {'offset': 3545, 'length': 17}, {'offset': 3563, 'length': 4}, {'offset': 3568, 'length': 6}, {'offset': 3581, 'length': 6}, {'offset': 3601, 'length': 567}, {'offset': 4173, 'length': 4}, {'offset': 4217, 'length': 19}]},\n",
       " 'content7': {'type': 'string', 'valueString': '圖 20:季度及年度簡明損益表(合併)\\n(NT$百萬元)\\n1Q2024A\\n2Q2024A\\n3Q2024A\\n4Q2024F\\n1Q2025F\\n2Q2025F\\n3Q2025F\\n4Q2025F\\nFY2024F\\nFY2025F\\n營業收入\\n1,073\\n1,256\\n1,930\\n1,539\\n1,793\\n2,018\\n2,391\\n2,173\\n5,798\\n8,375\\n銷貨成本\\n(608)\\n(716)\\n(1,136)\\n(877)\\n(972)\\n(1,089)\\n(1,304)\\n(1,185)\\n(3,338)\\n(4,549)\\n營業毛利\\n465\\n539\\n794\\n662\\n821\\n930\\n1,088\\n987\\n2,461\\n3,826\\n營業費用\\n(243)\\n(277)\\n(307)\\n(297)\\n(346)\\n(384)\\n(445)', 'content': '圖 20:季度及年度簡明損益表(合併)\\n(NT$百萬元)\\n1Q2024A\\n2Q2024A\\n3Q2024A\\n4Q2024F\\n1Q2025F\\n2Q2025F\\n3Q2025F\\n4Q2025F\\nFY2024F\\nFY2025F\\n營業收入\\n1,073\\n1,256\\n1,930\\n1,539\\n1,793\\n2,018\\n2,391\\n2,173\\n5,798\\n8,375\\n銷貨成本\\n(608)\\n(716)\\n(1,136)\\n(877)\\n(972)\\n(1,089)\\n(1,304)\\n(1,185)\\n(3,338)\\n(4,549)\\n營業毛利\\n465\\n539\\n794\\n662\\n821\\n930\\n1,088\\n987\\n2,461\\n3,826\\n營業費用\\n(243)\\n(277)\\n(307)\\n(297)\\n(346)\\n(384)\\n(445)', 'boundingRegions': [{'pageNumber': 8, 'polygon': [0.4999, 0.7992, 7.6185, 0.7992, 7.6185, 2.1516, 0.4999, 2.1516]}], 'confidence': 0, 'spans': [{'offset': 10831, 'length': 348}]},\n",
       " 'stock_code': {'type': 'string', 'valueString': '(6515', 'content': '(6515', 'boundingRegions': [{'pageNumber': 1, 'polygon': [1.2648, 0.8277, 2.2479, 0.8415, 2.2425, 1.223, 1.2594, 1.2091]}], 'confidence': 0.801, 'spans': [{'offset': 27, 'length': 5}]},\n",
       " 'Invest_Type': {'type': 'string', 'valueString': 'RTX50 及 AI GPU 動能\\n中', 'content': 'RTX50 及 AI GPU 動能\\n中', 'boundingRegions': [{'pageNumber': 1, 'polygon': [0.495, 1.3725, 3.4439, 1.3736, 3.4438, 1.615, 0.4949, 1.6139]}], 'confidence': 0.164, 'spans': [{'offset': 44, 'length': 17}, {'offset': 63, 'length': 1}]},\n",
       " 'content2': {'type': 'string', 'valueString': '營業收入\\n673\\n營業毛利\\n288\\n794\\n662\\n959\\n780\\n營業利益\\n75\\n487\\n365\\n389.2%\\n568\\n467\\n稅前利益\\n51\\n490\\n367\\n570\\n474\\n稅後淨利\\n調整後', 'content': '營業收入\\n673\\n營業毛利\\n288\\n794\\n662\\n959\\n780\\n營業利益\\n75\\n487\\n365\\n389.2%\\n568\\n467\\n稅前利益\\n51\\n490\\n367\\n570\\n474\\n稅後淨利\\n調整後', 'boundingRegions': [{'pageNumber': 2, 'polygon': [2.1832, 5.1621, 6.4293, 5.1846, 6.4221, 6.5358, 2.1761, 6.5134]}], 'confidence': 0, 'spans': [{'offset': 2600, 'length': 8}, {'offset': 2661, 'length': 16}, {'offset': 2692, 'length': 7}, {'offset': 2714, 'length': 15}, {'offset': 2737, 'length': 14}, {'offset': 2766, 'length': 15}, {'offset': 2796, 'length': 7}, {'offset': 2818, 'length': 4}, {'offset': 2870, 'length': 3}]},\n",
       " 'content4': {'type': 'string', 'valueString': '13.53', 'content': '13.53', 'boundingRegions': [{'pageNumber': 1, 'polygon': [1.3313, 7.8163, 1.5765, 7.8171, 1.5762, 7.9168, 1.331, 7.916]}], 'confidence': 0, 'spans': [{'offset': 495, 'length': 5}]},\n",
       " 'content6': {'type': 'string', 'valueString': '獲利調整與股票評價\\nRTX50 需求遭低估且 AI業務強勁,重申買進評等\\n2024/25年預估 EPS 下修13%/8%,以反映1)手機與伺服器 CPU需求放緩;2)研發費用提高;3) MEMS 探針卡學習曲線導致成本增加。然而,穎崴目前股價相當於24倍2025年EPS,本益比低 於國內同業平均的 34 倍。我們認為近期股價修正已反映伺服器 CPU 營收動能趨緩及 GB200/300 延後上市之影響。\\n本中心預估 2025/26 年 EPS 將年增 58%/29%,係因 1) AI GPU FT', 'content': '獲利調整與股票評價\\nRTX50 需求遭低估且 AI業務強勁,重申買進評等\\n2024/25年預估 EPS 下修13%/8%,以反映1)手機與伺服器 CPU需求放緩;2)研發費用提高;3) MEMS 探針卡學習曲線導致成本增加。然而,穎崴目前股價相當於24倍2025年EPS,本益比低 於國內同業平均的 34 倍。我們認為近期股價修正已反映伺服器 CPU 營收動能趨緩及 GB200/300 延後上市之影響。\\n本中心預估 2025/26 年 EPS 將年增 58%/29%,係因 1) AI GPU FT', 'boundingRegions': [{'pageNumber': 6, 'polygon': [1.8594, 0.6493, 7.9274, 0.6522, 7.9264, 2.6662, 1.8585, 2.6633]}], 'confidence': 0, 'spans': [{'offset': 7646, 'length': 250}]},\n",
       " 'content8': {'type': 'string', 'valueString': '(1,304)\\n(1,185)\\n(3,338)\\n(4,549)\\n營業毛利\\n465\\n539\\n794\\n662\\n821\\n930\\n1,088\\n987\\n2,461\\n3,826\\n營業費用\\n(243)\\n(277)\\n(307)\\n(297)\\n(346)\\n(384)\\n(445)\\n(443)\\n(1,124)\\n(1,619)\\n營業利益\\n222\\n263\\n487\\n365\\n475\\n545\\n643\\n544\\n1,337\\n2,207\\n業外利益\\n27\\n9\\n3\\n2\\n2\\n2\\n2\\n2\\n42\\n9\\n稅前純益\\n249\\n272\\n490\\n367\\n477\\n547\\n645\\n546\\n1,379\\n2,216\\n所得稅費用\\n(49)\\n(48)\\n(86)\\n(73)\\n(94)\\n(108)\\n(128)\\n(108)\\n(256)\\n(439)\\n少數股東權益\\n0\\n0\\n0\\n0\\n0\\n0\\n0\\n0\\n0\\n0\\n歸屬母公司稅後純益\\n200\\n224\\n404\\n295\\n383\\n439\\n517\\n438\\n1,123\\n1,777\\n調整後每股盈餘(NT$)\\n5.81\\n6.52\\n11.73\\n8.55\\n11.11\\n12.74\\n15.01\\n12.72\\n32.73\\n51.82\\n調整後加權平均股數(百萬股)\\n34\\n34\\n34\\n34\\n34\\n34\\n34\\n34\\n34\\n34\\n重要比率\\n營業毛利率\\n43.4%\\n43.0%\\n41.1%\\n43.0%\\n45.8%\\n46.1%\\n45.5%\\n45.4%\\n42.4%\\n45.7%\\n營業利益率\\n20.7%\\n20.9%\\n25.2%\\n23.7%\\n26.5%\\n27.0%\\n26.9%\\n25.0%\\n23.1%\\n26.4%\\n稅前純益率\\n23.2%\\n21.7%\\n25.4%\\n23.9%\\n26.6%\\n27.1%\\n27.0%\\n25.2%\\n23.8%\\n26.5%\\n稅後純益率\\n18.6%\\n17.9%\\n20.9%\\n19.1%\\n21.3%\\n21.7%\\n21.6%\\n20.2%\\n19.4%\\n21.2%\\n有效所得稅率\\n19.8%\\n17.6%\\n17.6%\\n19.9%\\n19.7%\\n19.7%\\n19.8%\\n19.8%\\n18.6%\\n19.8%\\n季增率(%)\\n營業收入\\n59.4%\\n17.0%\\n53.7%\\n-20.3%\\n16.5%\\n12.5%\\n18.5%\\n-9.1%\\n營業利益\\n197.8%\\n18.3%\\n85.3%\\n-25.1%\\n30.2%\\n14.7%\\n18.0%\\n-15.4%\\n稅後純益\\n243.6%\\n12.2%\\n80.3%\\n-27.1%\\n29.9%\\n14.6%\\n17.8%\\n-15.3%\\n調整後每股盈餘\\n243.1%\\n12.2%\\n79.9%\\n-27.1%\\n29.9%\\n14.7%\\n17.9%\\n-15.3%\\n年增率(%)\\n營業收入\\n6.4%\\n23.5%\\n96.1%\\n128.7%\\n67.1%\\n60.7%\\n23.9%\\n41.2%\\n57.5%\\n44.4%\\n營業利益\\n21.3%\\n58.1%\\n267.3%\\n389.2%\\n113.9%\\n107.3%\\n32.0%\\n49.0%\\n140.1%\\n65.1%\\n稅後純益\\n39.2%\\n65.2%\\n218.9%\\n406.8%\\n91.6%\\n95.9%\\n27.9%\\n48.5%\\n142.0%\\n58.2%\\n調整後每股盈餘\\n38.9%\\n64.8%\\n217.1%\\n404.8%\\n91.1%\\n95.4%\\n28.0%\\n48.8%\\n141.9%\\n58.3%\\n資料來源:公司資料、元大投顧、CMoney;標“A”為歷史數據;調整後每股盈餘為根據調整後加權平均股數計算。\\n請參閱末\\n之免\\n宣言', 'content': '(1,304)\\n(1,185)\\n(3,338)\\n(4,549)\\n營業毛利\\n465\\n539\\n794\\n662\\n821\\n930\\n1,088\\n987\\n2,461\\n3,826\\n營業費用\\n(243)\\n(277)\\n(307)\\n(297)\\n(346)\\n(384)\\n(445)\\n(443)\\n(1,124)\\n(1,619)\\n營業利益\\n222\\n263\\n487\\n365\\n475\\n545\\n643\\n544\\n1,337\\n2,207\\n業外利益\\n27\\n9\\n3\\n2\\n2\\n2\\n2\\n2\\n42\\n9\\n稅前純益\\n249\\n272\\n490\\n367\\n477\\n547\\n645\\n546\\n1,379\\n2,216\\n所得稅費用\\n(49)\\n(48)\\n(86)\\n(73)\\n(94)\\n(108)\\n(128)\\n(108)\\n(256)\\n(439)\\n少數股東權益\\n0\\n0\\n0\\n0\\n0\\n0\\n0\\n0\\n0\\n0\\n歸屬母公司稅後純益\\n200\\n224\\n404\\n295\\n383\\n439\\n517\\n438\\n1,123\\n1,777\\n調整後每股盈餘(NT$)\\n5.81\\n6.52\\n11.73\\n8.55\\n11.11\\n12.74\\n15.01\\n12.72\\n32.73\\n51.82\\n調整後加權平均股數(百萬股)\\n34\\n34\\n34\\n34\\n34\\n34\\n34\\n34\\n34\\n34\\n重要比率\\n營業毛利率\\n43.4%\\n43.0%\\n41.1%\\n43.0%\\n45.8%\\n46.1%\\n45.5%\\n45.4%\\n42.4%\\n45.7%\\n營業利益率\\n20.7%\\n20.9%\\n25.2%\\n23.7%\\n26.5%\\n27.0%\\n26.9%\\n25.0%\\n23.1%\\n26.4%\\n稅前純益率\\n23.2%\\n21.7%\\n25.4%\\n23.9%\\n26.6%\\n27.1%\\n27.0%\\n25.2%\\n23.8%\\n26.5%\\n稅後純益率\\n18.6%\\n17.9%\\n20.9%\\n19.1%\\n21.3%\\n21.7%\\n21.6%\\n20.2%\\n19.4%\\n21.2%\\n有效所得稅率\\n19.8%\\n17.6%\\n17.6%\\n19.9%\\n19.7%\\n19.7%\\n19.8%\\n19.8%\\n18.6%\\n19.8%\\n季增率(%)\\n營業收入\\n59.4%\\n17.0%\\n53.7%\\n-20.3%\\n16.5%\\n12.5%\\n18.5%\\n-9.1%\\n營業利益\\n197.8%\\n18.3%\\n85.3%\\n-25.1%\\n30.2%\\n14.7%\\n18.0%\\n-15.4%\\n稅後純益\\n243.6%\\n12.2%\\n80.3%\\n-27.1%\\n29.9%\\n14.6%\\n17.8%\\n-15.3%\\n調整後每股盈餘\\n243.1%\\n12.2%\\n79.9%\\n-27.1%\\n29.9%\\n14.7%\\n17.9%\\n-15.3%\\n年增率(%)\\n營業收入\\n6.4%\\n23.5%\\n96.1%\\n128.7%\\n67.1%\\n60.7%\\n23.9%\\n41.2%\\n57.5%\\n44.4%\\n營業利益\\n21.3%\\n58.1%\\n267.3%\\n389.2%\\n113.9%\\n107.3%\\n32.0%\\n49.0%\\n140.1%\\n65.1%\\n稅後純益\\n39.2%\\n65.2%\\n218.9%\\n406.8%\\n91.6%\\n95.9%\\n27.9%\\n48.5%\\n142.0%\\n58.2%\\n調整後每股盈餘\\n38.9%\\n64.8%\\n217.1%\\n404.8%\\n91.1%\\n95.4%\\n28.0%\\n48.8%\\n141.9%\\n58.3%\\n資料來源:公司資料、元大投顧、CMoney;標“A”為歷史數據;調整後每股盈餘為根據調整後加權平均股數計算。\\n請參閱末\\n之免\\n宣言', 'boundingRegions': [{'pageNumber': 8, 'polygon': [0.5148, 1.6008, 7.5576, 1.6261, 7.5222, 11.4621, 0.4794, 11.4368]}], 'confidence': 0, 'spans': [{'offset': 11050, 'length': 1442}, {'offset': 12493, 'length': 2}, {'offset': 12496, 'length': 2}]},\n",
       " 'content9': {'type': 'string', 'valueString': '(29.7)\\n31.3\\n46.7\\nTeradyne\\nTER\\nEquity\\n未評等\\n112.6\\n18,340\\n3.2\\n3.9\\n5.5\\n35.4\\n28.6\\n20.6\\n8.5\\n38.9\\n國\\n業平\\n--\\n-\\n-\\n24.4\\n21.6\\n14.8\\n5.5\\n24.6\\n47.7\\n國內同業\\n--\\n--\\n--\\n-\\n-\\n-\\n--\\n--\\n--\\n--\\n旺\\n買\\n823.0\\n13.9\\n30.6\\n42.0\\n59.1\\n26.9\\n19.6\\n(0.7)\\n119.7\\n37.3\\n中華精測\\n6510\\n有\\n超越 同業\\n791.0\\n779\\n29.4\\n73.1\\n40.1\\n26.9\\n988.2\\n82.3\\n48.8', 'content': '(29.7)\\n31.3\\n46.7\\nTeradyne\\nTER\\nEquity\\n未評等\\n112.6\\n18,340\\n3.2\\n3.9\\n5.5\\n35.4\\n28.6\\n20.6\\n8.5\\n38.9\\n國\\n業平\\n--\\n-\\n-\\n24.4\\n21.6\\n14.8\\n5.5\\n24.6\\n47.7\\n國內同業\\n--\\n--\\n--\\n-\\n-\\n-\\n--\\n--\\n--\\n--\\n旺\\n買\\n823.0\\n13.9\\n30.6\\n42.0\\n59.1\\n26.9\\n19.6\\n(0.7)\\n119.7\\n37.3\\n中華精測\\n6510\\n有\\n超越 同業\\n791.0\\n779\\n29.4\\n73.1\\n40.1\\n26.9\\n988.2\\n82.3\\n48.8', 'boundingRegions': [{'pageNumber': 7, 'polygon': [0.6254, 2.817, 7.6953, 2.8659, 7.6862, 4.1804, 0.6163, 4.1315]}], 'confidence': 0, 'spans': [{'offset': 9349, 'length': 29}, {'offset': 9382, 'length': 54}, {'offset': 9442, 'length': 6}, {'offset': 9450, 'length': 2}, {'offset': 9454, 'length': 67}, {'offset': 9525, 'length': 1}, {'offset': 9536, 'length': 1}, {'offset': 9539, 'length': 5}, {'offset': 9551, 'length': 56}, {'offset': 9612, 'length': 1}, {'offset': 9614, 'length': 15}, {'offset': 9640, 'length': 35}]},\n",
       " 'content10': {'type': 'string', 'confidence': 0.002}}"
      ]
     },
     "execution_count": 16,
     "metadata": {},
     "output_type": "execute_result"
    }
   ],
   "source": [
    "document.fields"
   ]
  },
  {
   "cell_type": "code",
   "execution_count": 17,
   "metadata": {},
   "outputs": [
    {
     "name": "stdout",
     "output_type": "stream",
     "text": [
      "broker_name {'type': 'string', 'valueString': '穎崴\\nWinWay', 'content': '穎崴\\nWinWay', 'boundingRegions': [{'pageNumber': 1, 'polygon': [0.5127, 0.8206, 3.8829, 0.8721, 3.8772, 1.2466, 0.5069, 1.1951]}], 'confidence': 0.44, 'spans': [{'offset': 25, 'length': 2}, {'offset': 37, 'length': 6}]}\n",
      "content {'type': 'string', 'valueString': '資料來源:公司資料、元大投顧\\n請參閱末頁之免責宣言。', 'content': '資料來源:公司資料、元大投顧\\n請參閱末頁之免責宣言。', 'boundingRegions': [{'pageNumber': 3, 'polygon': [0.4882, 8.6747, 3.2496, 8.6784, 3.2459, 11.4429, 0.4845, 11.4392]}], 'confidence': 0, 'spans': [{'offset': 4704, 'length': 26}]}\n",
      "report_date {'type': 'string', 'valueString': '2025年2月6日', 'content': '2025年2月6日', 'boundingRegions': [{'pageNumber': 1, 'polygon': [5.6214, 0.2155, 6.6449, 0.2179, 6.6445, 0.3796, 5.621, 0.3773]}], 'confidence': 0.49, 'spans': [{'offset': 5, 'length': 9}]}\n",
      "content3 {'type': 'string', 'valueString': '-35.6%\\n-22.5%\\n後\\n404\\n-27.1%\\n406.8%\\n457\\n-35.5%', 'content': '-35.6%\\n-22.5%\\n後\\n404\\n-27.1%\\n406.8%\\n457\\n-35.5%', 'boundingRegions': [{'pageNumber': 2, 'polygon': [2.4653, 5.8921, 7.5331, 5.9011, 7.5324, 6.27, 2.4647, 6.261]}], 'confidence': 0, 'spans': [{'offset': 2804, 'length': 13}, {'offset': 2819, 'length': 1}, {'offset': 2826, 'length': 3}, {'offset': 2834, 'length': 17}, {'offset': 2856, 'length': 6}]}\n",
      "content5 {'type': 'string', 'valueString': 'AI/HPC\\n256%\\nAI/HPC\\n300%\\n250%\\n200%\\n150%\\n100%\\n50%\\n0%\\n1Q24\\n3Q24\\n4Q24F\\n資料來源:公\\n資料、元\\n投顧預估\\n圖\\nAI/HPC\\n半年將持續復甦\\n(NT$mn)\\nCurrent AI/HPC\\nPrevious AI/HPC\\n1200\\n1000\\n800\\n600\\n400\\n200\\n0\\n4Q24F\\n1Q25F\\n2Q25F\\n資料來源:公司資料、元大投顧預估\\nRTX50 與 GB200 使 1H25 動能強勁,上修 1Q25 EPS 15%\\n整體測試供應鏈的電競 GPU 測試需求優於預期,預估 RTX50 世代整體測試介面需求(包括探針卡、 測試座、測試板)將是 RTX40測試介面的1~2 倍左右。我們認為主要原因在於製程升級及效能提升 (圖6)造成全新顯卡良率較低。\\n考量 RTX50 相關產品(如測試版及測試座)需求穩健,我們將 1Q25 營收調高 7%至17.9 億元,季 增 17%且年增 67%。儘管伺服器 CPU 需求平淡導致 1Q25 毛利率/營業利益率調整,但我們預估 本業獲利將季增 30%/年增 114%至 4.8 億元,係因 1)RTX50 探針卡帶動產品組合改善;及 2) AI/HPC 及電競業務支撐產能利用率維持高檔,我們因此將 1Q25 EPS 上修 15%至11.1元,季增 30%、年增91%。\\n1 6:NVIDIA RTX5080/5090 上市時間較先前預期推遲一季\\nRTX 3080\\nRTX 3090\\nRTX 4080(16G)\\n4090\\n3Q22\\n4Q22\\n1Q25\\n1Q25', 'content': 'AI/HPC\\n256%\\nAI/HPC\\n300%\\n250%\\n200%\\n150%\\n100%\\n50%\\n0%\\n1Q24\\n3Q24\\n4Q24F\\n資料來源:公\\n資料、元\\n投顧預估\\n圖\\nAI/HPC\\n半年將持續復甦\\n(NT$mn)\\nCurrent AI/HPC\\nPrevious AI/HPC\\n1200\\n1000\\n800\\n600\\n400\\n200\\n0\\n4Q24F\\n1Q25F\\n2Q25F\\n資料來源:公司資料、元大投顧預估\\nRTX50 與 GB200 使 1H25 動能強勁,上修 1Q25 EPS 15%\\n整體測試供應鏈的電競 GPU 測試需求優於預期,預估 RTX50 世代整體測試介面需求(包括探針卡、 測試座、測試板)將是 RTX40測試介面的1~2 倍左右。我們認為主要原因在於製程升級及效能提升 (圖6)造成全新顯卡良率較低。\\n考量 RTX50 相關產品(如測試版及測試座)需求穩健,我們將 1Q25 營收調高 7%至17.9 億元,季 增 17%且年增 67%。儘管伺服器 CPU 需求平淡導致 1Q25 毛利率/營業利益率調整,但我們預估 本業獲利將季增 30%/年增 114%至 4.8 億元,係因 1)RTX50 探針卡帶動產品組合改善;及 2) AI/HPC 及電競業務支撐產能利用率維持高檔,我們因此將 1Q25 EPS 上修 15%至11.1元,季增 30%、年增91%。\\n1 6:NVIDIA RTX5080/5090 上市時間較先前預期推遲一季\\nRTX 3080\\nRTX 3090\\nRTX 4080(16G)\\n4090\\n3Q22\\n4Q22\\n1Q25\\n1Q25', 'boundingRegions': [{'pageNumber': 3, 'polygon': [1.8611, 0.6556, 7.9555, 0.6556, 7.9555, 6.6879, 1.8611, 6.6879]}], 'confidence': 0, 'spans': [{'offset': 3466, 'length': 6}, {'offset': 3481, 'length': 11}, {'offset': 3503, 'length': 36}, {'offset': 3545, 'length': 17}, {'offset': 3563, 'length': 4}, {'offset': 3568, 'length': 6}, {'offset': 3581, 'length': 6}, {'offset': 3601, 'length': 567}, {'offset': 4173, 'length': 4}, {'offset': 4217, 'length': 19}]}\n",
      "content7 {'type': 'string', 'valueString': '圖 20:季度及年度簡明損益表(合併)\\n(NT$百萬元)\\n1Q2024A\\n2Q2024A\\n3Q2024A\\n4Q2024F\\n1Q2025F\\n2Q2025F\\n3Q2025F\\n4Q2025F\\nFY2024F\\nFY2025F\\n營業收入\\n1,073\\n1,256\\n1,930\\n1,539\\n1,793\\n2,018\\n2,391\\n2,173\\n5,798\\n8,375\\n銷貨成本\\n(608)\\n(716)\\n(1,136)\\n(877)\\n(972)\\n(1,089)\\n(1,304)\\n(1,185)\\n(3,338)\\n(4,549)\\n營業毛利\\n465\\n539\\n794\\n662\\n821\\n930\\n1,088\\n987\\n2,461\\n3,826\\n營業費用\\n(243)\\n(277)\\n(307)\\n(297)\\n(346)\\n(384)\\n(445)', 'content': '圖 20:季度及年度簡明損益表(合併)\\n(NT$百萬元)\\n1Q2024A\\n2Q2024A\\n3Q2024A\\n4Q2024F\\n1Q2025F\\n2Q2025F\\n3Q2025F\\n4Q2025F\\nFY2024F\\nFY2025F\\n營業收入\\n1,073\\n1,256\\n1,930\\n1,539\\n1,793\\n2,018\\n2,391\\n2,173\\n5,798\\n8,375\\n銷貨成本\\n(608)\\n(716)\\n(1,136)\\n(877)\\n(972)\\n(1,089)\\n(1,304)\\n(1,185)\\n(3,338)\\n(4,549)\\n營業毛利\\n465\\n539\\n794\\n662\\n821\\n930\\n1,088\\n987\\n2,461\\n3,826\\n營業費用\\n(243)\\n(277)\\n(307)\\n(297)\\n(346)\\n(384)\\n(445)', 'boundingRegions': [{'pageNumber': 8, 'polygon': [0.4999, 0.7992, 7.6185, 0.7992, 7.6185, 2.1516, 0.4999, 2.1516]}], 'confidence': 0, 'spans': [{'offset': 10831, 'length': 348}]}\n",
      "stock_code {'type': 'string', 'valueString': '(6515', 'content': '(6515', 'boundingRegions': [{'pageNumber': 1, 'polygon': [1.2648, 0.8277, 2.2479, 0.8415, 2.2425, 1.223, 1.2594, 1.2091]}], 'confidence': 0.801, 'spans': [{'offset': 27, 'length': 5}]}\n",
      "Invest_Type {'type': 'string', 'valueString': 'RTX50 及 AI GPU 動能\\n中', 'content': 'RTX50 及 AI GPU 動能\\n中', 'boundingRegions': [{'pageNumber': 1, 'polygon': [0.495, 1.3725, 3.4439, 1.3736, 3.4438, 1.615, 0.4949, 1.6139]}], 'confidence': 0.164, 'spans': [{'offset': 44, 'length': 17}, {'offset': 63, 'length': 1}]}\n",
      "content2 {'type': 'string', 'valueString': '營業收入\\n673\\n營業毛利\\n288\\n794\\n662\\n959\\n780\\n營業利益\\n75\\n487\\n365\\n389.2%\\n568\\n467\\n稅前利益\\n51\\n490\\n367\\n570\\n474\\n稅後淨利\\n調整後', 'content': '營業收入\\n673\\n營業毛利\\n288\\n794\\n662\\n959\\n780\\n營業利益\\n75\\n487\\n365\\n389.2%\\n568\\n467\\n稅前利益\\n51\\n490\\n367\\n570\\n474\\n稅後淨利\\n調整後', 'boundingRegions': [{'pageNumber': 2, 'polygon': [2.1832, 5.1621, 6.4293, 5.1846, 6.4221, 6.5358, 2.1761, 6.5134]}], 'confidence': 0, 'spans': [{'offset': 2600, 'length': 8}, {'offset': 2661, 'length': 16}, {'offset': 2692, 'length': 7}, {'offset': 2714, 'length': 15}, {'offset': 2737, 'length': 14}, {'offset': 2766, 'length': 15}, {'offset': 2796, 'length': 7}, {'offset': 2818, 'length': 4}, {'offset': 2870, 'length': 3}]}\n",
      "content4 {'type': 'string', 'valueString': '13.53', 'content': '13.53', 'boundingRegions': [{'pageNumber': 1, 'polygon': [1.3313, 7.8163, 1.5765, 7.8171, 1.5762, 7.9168, 1.331, 7.916]}], 'confidence': 0, 'spans': [{'offset': 495, 'length': 5}]}\n",
      "content6 {'type': 'string', 'valueString': '獲利調整與股票評價\\nRTX50 需求遭低估且 AI業務強勁,重申買進評等\\n2024/25年預估 EPS 下修13%/8%,以反映1)手機與伺服器 CPU需求放緩;2)研發費用提高;3) MEMS 探針卡學習曲線導致成本增加。然而,穎崴目前股價相當於24倍2025年EPS,本益比低 於國內同業平均的 34 倍。我們認為近期股價修正已反映伺服器 CPU 營收動能趨緩及 GB200/300 延後上市之影響。\\n本中心預估 2025/26 年 EPS 將年增 58%/29%,係因 1) AI GPU FT', 'content': '獲利調整與股票評價\\nRTX50 需求遭低估且 AI業務強勁,重申買進評等\\n2024/25年預估 EPS 下修13%/8%,以反映1)手機與伺服器 CPU需求放緩;2)研發費用提高;3) MEMS 探針卡學習曲線導致成本增加。然而,穎崴目前股價相當於24倍2025年EPS,本益比低 於國內同業平均的 34 倍。我們認為近期股價修正已反映伺服器 CPU 營收動能趨緩及 GB200/300 延後上市之影響。\\n本中心預估 2025/26 年 EPS 將年增 58%/29%,係因 1) AI GPU FT', 'boundingRegions': [{'pageNumber': 6, 'polygon': [1.8594, 0.6493, 7.9274, 0.6522, 7.9264, 2.6662, 1.8585, 2.6633]}], 'confidence': 0, 'spans': [{'offset': 7646, 'length': 250}]}\n",
      "content8 {'type': 'string', 'valueString': '(1,304)\\n(1,185)\\n(3,338)\\n(4,549)\\n營業毛利\\n465\\n539\\n794\\n662\\n821\\n930\\n1,088\\n987\\n2,461\\n3,826\\n營業費用\\n(243)\\n(277)\\n(307)\\n(297)\\n(346)\\n(384)\\n(445)\\n(443)\\n(1,124)\\n(1,619)\\n營業利益\\n222\\n263\\n487\\n365\\n475\\n545\\n643\\n544\\n1,337\\n2,207\\n業外利益\\n27\\n9\\n3\\n2\\n2\\n2\\n2\\n2\\n42\\n9\\n稅前純益\\n249\\n272\\n490\\n367\\n477\\n547\\n645\\n546\\n1,379\\n2,216\\n所得稅費用\\n(49)\\n(48)\\n(86)\\n(73)\\n(94)\\n(108)\\n(128)\\n(108)\\n(256)\\n(439)\\n少數股東權益\\n0\\n0\\n0\\n0\\n0\\n0\\n0\\n0\\n0\\n0\\n歸屬母公司稅後純益\\n200\\n224\\n404\\n295\\n383\\n439\\n517\\n438\\n1,123\\n1,777\\n調整後每股盈餘(NT$)\\n5.81\\n6.52\\n11.73\\n8.55\\n11.11\\n12.74\\n15.01\\n12.72\\n32.73\\n51.82\\n調整後加權平均股數(百萬股)\\n34\\n34\\n34\\n34\\n34\\n34\\n34\\n34\\n34\\n34\\n重要比率\\n營業毛利率\\n43.4%\\n43.0%\\n41.1%\\n43.0%\\n45.8%\\n46.1%\\n45.5%\\n45.4%\\n42.4%\\n45.7%\\n營業利益率\\n20.7%\\n20.9%\\n25.2%\\n23.7%\\n26.5%\\n27.0%\\n26.9%\\n25.0%\\n23.1%\\n26.4%\\n稅前純益率\\n23.2%\\n21.7%\\n25.4%\\n23.9%\\n26.6%\\n27.1%\\n27.0%\\n25.2%\\n23.8%\\n26.5%\\n稅後純益率\\n18.6%\\n17.9%\\n20.9%\\n19.1%\\n21.3%\\n21.7%\\n21.6%\\n20.2%\\n19.4%\\n21.2%\\n有效所得稅率\\n19.8%\\n17.6%\\n17.6%\\n19.9%\\n19.7%\\n19.7%\\n19.8%\\n19.8%\\n18.6%\\n19.8%\\n季增率(%)\\n營業收入\\n59.4%\\n17.0%\\n53.7%\\n-20.3%\\n16.5%\\n12.5%\\n18.5%\\n-9.1%\\n營業利益\\n197.8%\\n18.3%\\n85.3%\\n-25.1%\\n30.2%\\n14.7%\\n18.0%\\n-15.4%\\n稅後純益\\n243.6%\\n12.2%\\n80.3%\\n-27.1%\\n29.9%\\n14.6%\\n17.8%\\n-15.3%\\n調整後每股盈餘\\n243.1%\\n12.2%\\n79.9%\\n-27.1%\\n29.9%\\n14.7%\\n17.9%\\n-15.3%\\n年增率(%)\\n營業收入\\n6.4%\\n23.5%\\n96.1%\\n128.7%\\n67.1%\\n60.7%\\n23.9%\\n41.2%\\n57.5%\\n44.4%\\n營業利益\\n21.3%\\n58.1%\\n267.3%\\n389.2%\\n113.9%\\n107.3%\\n32.0%\\n49.0%\\n140.1%\\n65.1%\\n稅後純益\\n39.2%\\n65.2%\\n218.9%\\n406.8%\\n91.6%\\n95.9%\\n27.9%\\n48.5%\\n142.0%\\n58.2%\\n調整後每股盈餘\\n38.9%\\n64.8%\\n217.1%\\n404.8%\\n91.1%\\n95.4%\\n28.0%\\n48.8%\\n141.9%\\n58.3%\\n資料來源:公司資料、元大投顧、CMoney;標“A”為歷史數據;調整後每股盈餘為根據調整後加權平均股數計算。\\n請參閱末\\n之免\\n宣言', 'content': '(1,304)\\n(1,185)\\n(3,338)\\n(4,549)\\n營業毛利\\n465\\n539\\n794\\n662\\n821\\n930\\n1,088\\n987\\n2,461\\n3,826\\n營業費用\\n(243)\\n(277)\\n(307)\\n(297)\\n(346)\\n(384)\\n(445)\\n(443)\\n(1,124)\\n(1,619)\\n營業利益\\n222\\n263\\n487\\n365\\n475\\n545\\n643\\n544\\n1,337\\n2,207\\n業外利益\\n27\\n9\\n3\\n2\\n2\\n2\\n2\\n2\\n42\\n9\\n稅前純益\\n249\\n272\\n490\\n367\\n477\\n547\\n645\\n546\\n1,379\\n2,216\\n所得稅費用\\n(49)\\n(48)\\n(86)\\n(73)\\n(94)\\n(108)\\n(128)\\n(108)\\n(256)\\n(439)\\n少數股東權益\\n0\\n0\\n0\\n0\\n0\\n0\\n0\\n0\\n0\\n0\\n歸屬母公司稅後純益\\n200\\n224\\n404\\n295\\n383\\n439\\n517\\n438\\n1,123\\n1,777\\n調整後每股盈餘(NT$)\\n5.81\\n6.52\\n11.73\\n8.55\\n11.11\\n12.74\\n15.01\\n12.72\\n32.73\\n51.82\\n調整後加權平均股數(百萬股)\\n34\\n34\\n34\\n34\\n34\\n34\\n34\\n34\\n34\\n34\\n重要比率\\n營業毛利率\\n43.4%\\n43.0%\\n41.1%\\n43.0%\\n45.8%\\n46.1%\\n45.5%\\n45.4%\\n42.4%\\n45.7%\\n營業利益率\\n20.7%\\n20.9%\\n25.2%\\n23.7%\\n26.5%\\n27.0%\\n26.9%\\n25.0%\\n23.1%\\n26.4%\\n稅前純益率\\n23.2%\\n21.7%\\n25.4%\\n23.9%\\n26.6%\\n27.1%\\n27.0%\\n25.2%\\n23.8%\\n26.5%\\n稅後純益率\\n18.6%\\n17.9%\\n20.9%\\n19.1%\\n21.3%\\n21.7%\\n21.6%\\n20.2%\\n19.4%\\n21.2%\\n有效所得稅率\\n19.8%\\n17.6%\\n17.6%\\n19.9%\\n19.7%\\n19.7%\\n19.8%\\n19.8%\\n18.6%\\n19.8%\\n季增率(%)\\n營業收入\\n59.4%\\n17.0%\\n53.7%\\n-20.3%\\n16.5%\\n12.5%\\n18.5%\\n-9.1%\\n營業利益\\n197.8%\\n18.3%\\n85.3%\\n-25.1%\\n30.2%\\n14.7%\\n18.0%\\n-15.4%\\n稅後純益\\n243.6%\\n12.2%\\n80.3%\\n-27.1%\\n29.9%\\n14.6%\\n17.8%\\n-15.3%\\n調整後每股盈餘\\n243.1%\\n12.2%\\n79.9%\\n-27.1%\\n29.9%\\n14.7%\\n17.9%\\n-15.3%\\n年增率(%)\\n營業收入\\n6.4%\\n23.5%\\n96.1%\\n128.7%\\n67.1%\\n60.7%\\n23.9%\\n41.2%\\n57.5%\\n44.4%\\n營業利益\\n21.3%\\n58.1%\\n267.3%\\n389.2%\\n113.9%\\n107.3%\\n32.0%\\n49.0%\\n140.1%\\n65.1%\\n稅後純益\\n39.2%\\n65.2%\\n218.9%\\n406.8%\\n91.6%\\n95.9%\\n27.9%\\n48.5%\\n142.0%\\n58.2%\\n調整後每股盈餘\\n38.9%\\n64.8%\\n217.1%\\n404.8%\\n91.1%\\n95.4%\\n28.0%\\n48.8%\\n141.9%\\n58.3%\\n資料來源:公司資料、元大投顧、CMoney;標“A”為歷史數據;調整後每股盈餘為根據調整後加權平均股數計算。\\n請參閱末\\n之免\\n宣言', 'boundingRegions': [{'pageNumber': 8, 'polygon': [0.5148, 1.6008, 7.5576, 1.6261, 7.5222, 11.4621, 0.4794, 11.4368]}], 'confidence': 0, 'spans': [{'offset': 11050, 'length': 1442}, {'offset': 12493, 'length': 2}, {'offset': 12496, 'length': 2}]}\n",
      "content9 {'type': 'string', 'valueString': '(29.7)\\n31.3\\n46.7\\nTeradyne\\nTER\\nEquity\\n未評等\\n112.6\\n18,340\\n3.2\\n3.9\\n5.5\\n35.4\\n28.6\\n20.6\\n8.5\\n38.9\\n國\\n業平\\n--\\n-\\n-\\n24.4\\n21.6\\n14.8\\n5.5\\n24.6\\n47.7\\n國內同業\\n--\\n--\\n--\\n-\\n-\\n-\\n--\\n--\\n--\\n--\\n旺\\n買\\n823.0\\n13.9\\n30.6\\n42.0\\n59.1\\n26.9\\n19.6\\n(0.7)\\n119.7\\n37.3\\n中華精測\\n6510\\n有\\n超越 同業\\n791.0\\n779\\n29.4\\n73.1\\n40.1\\n26.9\\n988.2\\n82.3\\n48.8', 'content': '(29.7)\\n31.3\\n46.7\\nTeradyne\\nTER\\nEquity\\n未評等\\n112.6\\n18,340\\n3.2\\n3.9\\n5.5\\n35.4\\n28.6\\n20.6\\n8.5\\n38.9\\n國\\n業平\\n--\\n-\\n-\\n24.4\\n21.6\\n14.8\\n5.5\\n24.6\\n47.7\\n國內同業\\n--\\n--\\n--\\n-\\n-\\n-\\n--\\n--\\n--\\n--\\n旺\\n買\\n823.0\\n13.9\\n30.6\\n42.0\\n59.1\\n26.9\\n19.6\\n(0.7)\\n119.7\\n37.3\\n中華精測\\n6510\\n有\\n超越 同業\\n791.0\\n779\\n29.4\\n73.1\\n40.1\\n26.9\\n988.2\\n82.3\\n48.8', 'boundingRegions': [{'pageNumber': 7, 'polygon': [0.6254, 2.817, 7.6953, 2.8659, 7.6862, 4.1804, 0.6163, 4.1315]}], 'confidence': 0, 'spans': [{'offset': 9349, 'length': 29}, {'offset': 9382, 'length': 54}, {'offset': 9442, 'length': 6}, {'offset': 9450, 'length': 2}, {'offset': 9454, 'length': 67}, {'offset': 9525, 'length': 1}, {'offset': 9536, 'length': 1}, {'offset': 9539, 'length': 5}, {'offset': 9551, 'length': 56}, {'offset': 9612, 'length': 1}, {'offset': 9614, 'length': 15}, {'offset': 9640, 'length': 35}]}\n",
      "content10 {'type': 'string', 'confidence': 0.002}\n"
     ]
    }
   ],
   "source": [
    "for i, j in document.fields.items():\n",
    "    print(i, j)"
   ]
  },
  {
   "cell_type": "code",
   "execution_count": 18,
   "metadata": {},
   "outputs": [],
   "source": [
    "import json"
   ]
  },
  {
   "cell_type": "code",
   "execution_count": 22,
   "metadata": {},
   "outputs": [
    {
     "ename": "TypeError",
     "evalue": "Object of type DocumentField is not JSON serializable",
     "output_type": "error",
     "traceback": [
      "\u001b[31m---------------------------------------------------------------------------\u001b[39m",
      "\u001b[31mTypeError\u001b[39m                                 Traceback (most recent call last)",
      "\u001b[36mCell\u001b[39m\u001b[36m \u001b[39m\u001b[32mIn[22]\u001b[39m\u001b[32m, line 2\u001b[39m\n\u001b[32m      1\u001b[39m \u001b[38;5;28;01mwith\u001b[39;00m \u001b[38;5;28mopen\u001b[39m(os.path.join(src_path, \u001b[33mf\u001b[39m\u001b[33m'\u001b[39m\u001b[33moutput_\u001b[39m\u001b[38;5;132;01m{\u001b[39;00mpdf_base\u001b[38;5;132;01m}\u001b[39;00m\u001b[33m.json\u001b[39m\u001b[33m'\u001b[39m), \u001b[33m'\u001b[39m\u001b[33mw\u001b[39m\u001b[33m'\u001b[39m, encoding=\u001b[33m'\u001b[39m\u001b[33mutf-8\u001b[39m\u001b[33m'\u001b[39m) \u001b[38;5;28;01mas\u001b[39;00m fp:\n\u001b[32m----> \u001b[39m\u001b[32m2\u001b[39m     \u001b[43mjson\u001b[49m\u001b[43m.\u001b[49m\u001b[43mdump\u001b[49m\u001b[43m(\u001b[49m\u001b[43mdocument\u001b[49m\u001b[43m.\u001b[49m\u001b[43mfields\u001b[49m\u001b[43m,\u001b[49m\u001b[43m \u001b[49m\u001b[43mfp\u001b[49m\u001b[43m,\u001b[49m\u001b[43m \u001b[49m\u001b[43mindent\u001b[49m\u001b[43m=\u001b[49m\u001b[32;43m4\u001b[39;49m\u001b[43m,\u001b[49m\u001b[43m \u001b[49m\u001b[43mensure_ascii\u001b[49m\u001b[43m=\u001b[49m\u001b[38;5;28;43;01mFalse\u001b[39;49;00m\u001b[43m)\u001b[49m\n",
      "\u001b[36mFile \u001b[39m\u001b[32m~\\AppData\\Local\\Programs\\Python\\Python312\\Lib\\json\\__init__.py:179\u001b[39m, in \u001b[36mdump\u001b[39m\u001b[34m(obj, fp, skipkeys, ensure_ascii, check_circular, allow_nan, cls, indent, separators, default, sort_keys, **kw)\u001b[39m\n\u001b[32m    173\u001b[39m     iterable = \u001b[38;5;28mcls\u001b[39m(skipkeys=skipkeys, ensure_ascii=ensure_ascii,\n\u001b[32m    174\u001b[39m         check_circular=check_circular, allow_nan=allow_nan, indent=indent,\n\u001b[32m    175\u001b[39m         separators=separators,\n\u001b[32m    176\u001b[39m         default=default, sort_keys=sort_keys, **kw).iterencode(obj)\n\u001b[32m    177\u001b[39m \u001b[38;5;66;03m# could accelerate with writelines in some versions of Python, at\u001b[39;00m\n\u001b[32m    178\u001b[39m \u001b[38;5;66;03m# a debuggability cost\u001b[39;00m\n\u001b[32m--> \u001b[39m\u001b[32m179\u001b[39m \u001b[43m\u001b[49m\u001b[38;5;28;43;01mfor\u001b[39;49;00m\u001b[43m \u001b[49m\u001b[43mchunk\u001b[49m\u001b[43m \u001b[49m\u001b[38;5;129;43;01min\u001b[39;49;00m\u001b[43m \u001b[49m\u001b[43miterable\u001b[49m\u001b[43m:\u001b[49m\n\u001b[32m    180\u001b[39m \u001b[43m    \u001b[49m\u001b[43mfp\u001b[49m\u001b[43m.\u001b[49m\u001b[43mwrite\u001b[49m\u001b[43m(\u001b[49m\u001b[43mchunk\u001b[49m\u001b[43m)\u001b[49m\n",
      "\u001b[36mFile \u001b[39m\u001b[32m~\\AppData\\Local\\Programs\\Python\\Python312\\Lib\\json\\encoder.py:432\u001b[39m, in \u001b[36m_make_iterencode.<locals>._iterencode\u001b[39m\u001b[34m(o, _current_indent_level)\u001b[39m\n\u001b[32m    430\u001b[39m     \u001b[38;5;28;01myield from\u001b[39;00m _iterencode_list(o, _current_indent_level)\n\u001b[32m    431\u001b[39m \u001b[38;5;28;01melif\u001b[39;00m \u001b[38;5;28misinstance\u001b[39m(o, \u001b[38;5;28mdict\u001b[39m):\n\u001b[32m--> \u001b[39m\u001b[32m432\u001b[39m     \u001b[38;5;28;01myield from\u001b[39;00m _iterencode_dict(o, _current_indent_level)\n\u001b[32m    433\u001b[39m \u001b[38;5;28;01melse\u001b[39;00m:\n\u001b[32m    434\u001b[39m     \u001b[38;5;28;01mif\u001b[39;00m markers \u001b[38;5;129;01mis\u001b[39;00m \u001b[38;5;129;01mnot\u001b[39;00m \u001b[38;5;28;01mNone\u001b[39;00m:\n",
      "\u001b[36mFile \u001b[39m\u001b[32m~\\AppData\\Local\\Programs\\Python\\Python312\\Lib\\json\\encoder.py:406\u001b[39m, in \u001b[36m_make_iterencode.<locals>._iterencode_dict\u001b[39m\u001b[34m(dct, _current_indent_level)\u001b[39m\n\u001b[32m    404\u001b[39m         \u001b[38;5;28;01melse\u001b[39;00m:\n\u001b[32m    405\u001b[39m             chunks = _iterencode(value, _current_indent_level)\n\u001b[32m--> \u001b[39m\u001b[32m406\u001b[39m         \u001b[38;5;28;01myield from\u001b[39;00m chunks\n\u001b[32m    407\u001b[39m \u001b[38;5;28;01mif\u001b[39;00m newline_indent \u001b[38;5;129;01mis\u001b[39;00m \u001b[38;5;129;01mnot\u001b[39;00m \u001b[38;5;28;01mNone\u001b[39;00m:\n\u001b[32m    408\u001b[39m     _current_indent_level -= \u001b[32m1\u001b[39m\n",
      "\u001b[36mFile \u001b[39m\u001b[32m~\\AppData\\Local\\Programs\\Python\\Python312\\Lib\\json\\encoder.py:439\u001b[39m, in \u001b[36m_make_iterencode.<locals>._iterencode\u001b[39m\u001b[34m(o, _current_indent_level)\u001b[39m\n\u001b[32m    437\u001b[39m         \u001b[38;5;28;01mraise\u001b[39;00m \u001b[38;5;167;01mValueError\u001b[39;00m(\u001b[33m\"\u001b[39m\u001b[33mCircular reference detected\u001b[39m\u001b[33m\"\u001b[39m)\n\u001b[32m    438\u001b[39m     markers[markerid] = o\n\u001b[32m--> \u001b[39m\u001b[32m439\u001b[39m o = \u001b[43m_default\u001b[49m\u001b[43m(\u001b[49m\u001b[43mo\u001b[49m\u001b[43m)\u001b[49m\n\u001b[32m    440\u001b[39m \u001b[38;5;28;01myield from\u001b[39;00m _iterencode(o, _current_indent_level)\n\u001b[32m    441\u001b[39m \u001b[38;5;28;01mif\u001b[39;00m markers \u001b[38;5;129;01mis\u001b[39;00m \u001b[38;5;129;01mnot\u001b[39;00m \u001b[38;5;28;01mNone\u001b[39;00m:\n",
      "\u001b[36mFile \u001b[39m\u001b[32m~\\AppData\\Local\\Programs\\Python\\Python312\\Lib\\json\\encoder.py:180\u001b[39m, in \u001b[36mJSONEncoder.default\u001b[39m\u001b[34m(self, o)\u001b[39m\n\u001b[32m    161\u001b[39m \u001b[38;5;28;01mdef\u001b[39;00m\u001b[38;5;250m \u001b[39m\u001b[34mdefault\u001b[39m(\u001b[38;5;28mself\u001b[39m, o):\n\u001b[32m    162\u001b[39m \u001b[38;5;250m    \u001b[39m\u001b[33;03m\"\"\"Implement this method in a subclass such that it returns\u001b[39;00m\n\u001b[32m    163\u001b[39m \u001b[33;03m    a serializable object for ``o``, or calls the base implementation\u001b[39;00m\n\u001b[32m    164\u001b[39m \u001b[33;03m    (to raise a ``TypeError``).\u001b[39;00m\n\u001b[32m   (...)\u001b[39m\u001b[32m    178\u001b[39m \n\u001b[32m    179\u001b[39m \u001b[33;03m    \"\"\"\u001b[39;00m\n\u001b[32m--> \u001b[39m\u001b[32m180\u001b[39m     \u001b[38;5;28;01mraise\u001b[39;00m \u001b[38;5;167;01mTypeError\u001b[39;00m(\u001b[33mf\u001b[39m\u001b[33m'\u001b[39m\u001b[33mObject of type \u001b[39m\u001b[38;5;132;01m{\u001b[39;00mo.\u001b[34m__class__\u001b[39m.\u001b[34m__name__\u001b[39m\u001b[38;5;132;01m}\u001b[39;00m\u001b[33m \u001b[39m\u001b[33m'\u001b[39m\n\u001b[32m    181\u001b[39m                     \u001b[33mf\u001b[39m\u001b[33m'\u001b[39m\u001b[33mis not JSON serializable\u001b[39m\u001b[33m'\u001b[39m)\n",
      "\u001b[31mTypeError\u001b[39m: Object of type DocumentField is not JSON serializable"
     ]
    }
   ],
   "source": [
    "with open(os.path.join(src_path, f'output_{pdf_base}.json'), 'w', encoding='utf-8') as fp:\n",
    "    json.dump(document.fields, fp, indent=4, ensure_ascii=False)"
   ]
  },
  {
   "cell_type": "code",
   "execution_count": 15,
   "metadata": {},
   "outputs": [],
   "source": [
    "with open(os.path.join(src_path, f'output_{pdf_base}.txt'), 'a', encoding='utf-8') as fout:\n",
    "    # iterate over tables, lines, and selection marks on each page\n",
    "    for page in result.pages:\n",
    "        print(\"-----------------------------------\", file=fout)\n",
    "        print(\"\\nLines found on page {}\".format(page.page_number), file=fout)\n",
    "        for line in page.lines:\n",
    "            print(\"-----------------------------------\", file=fout)\n",
    "            print(\"...Line '{}'\".format(line.content), file=fout)\n",
    "        for word in page.words:\n",
    "            print(\"-----------------------------------\", file=fout)\n",
    "            print(\n",
    "                \"...Word '{}' has a confidence of {}\".format(\n",
    "                    word.content, word.confidence\n",
    "                )\n",
    "            , file=fout)\n",
    "        if page.selection_marks:\n",
    "            print(\"-----------------------------------\", file=fout)\n",
    "            for selection_mark in page.selection_marks:\n",
    "                print(\n",
    "                    \"...Selection mark is '{}' and has a confidence of {}\".format(\n",
    "                        selection_mark.state, selection_mark.confidence\n",
    "                    )\n",
    "                , file=fout)\n",
    "\n",
    "    for i, table in enumerate(result.tables):\n",
    "        print(\"-----------------------------------\", file=fout)\n",
    "        print(\"\\nTable {} can be found on page:\".format(i + 1), file=fout)\n",
    "        for region in table.bounding_regions:\n",
    "            print(\"...{}\".format(i + 1, region.page_number), file=fout)\n",
    "        for cell in table.cells:\n",
    "            print(\n",
    "                \"...Cell[{}][{}] has content '{}'\".format(\n",
    "                    cell.row_index, cell.column_index, cell.content\n",
    "                )\n",
    "            , file=fout)\n",
    "    print(\"-----------------------------------\", file=fout)"
   ]
  }
 ],
 "metadata": {
  "kernelspec": {
   "display_name": ".venv",
   "language": "python",
   "name": "python3"
  },
  "language_info": {
   "codemirror_mode": {
    "name": "ipython",
    "version": 3
   },
   "file_extension": ".py",
   "mimetype": "text/x-python",
   "name": "python",
   "nbconvert_exporter": "python",
   "pygments_lexer": "ipython3",
   "version": "3.12.7"
  }
 },
 "nbformat": 4,
 "nbformat_minor": 2
}
